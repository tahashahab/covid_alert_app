{
 "cells": [
  {
   "cell_type": "markdown",
   "metadata": {},
   "source": [
    "# Covid Alert App Impact Analysis\n",
    "\n",
    "This notebook contains analysis on Ontario's Covid Alert App and its impact on different parts of the Covid problem."
   ]
  },
  {
   "cell_type": "code",
   "execution_count": 12,
   "metadata": {},
   "outputs": [],
   "source": [
    "import numpy as np\n",
    "import pandas as pd \n",
    "import matplotlib.pyplot as plt \n",
    "import seaborn as sns "
   ]
  },
  {
   "cell_type": "markdown",
   "metadata": {},
   "source": [
    "## Data\n",
    "\n",
    "There are a total of six .csv datasets that will be used to perform a thorough analysis on the app's impact:\n",
    "\n",
    "1) Covid Alert App Downloads\n",
    "\n",
    "2) Covid Alert App Positive Diagnosis Uploads\n",
    "\n",
    "3) Confirmed Positive Cases of Covid in Ontario\n",
    "\n",
    "4) Covid Outbreaks by Public Health Unit (PHU)\n",
    "\n",
    "5) Summary of Cases Associated with Outbreaks\n",
    "\n",
    "6) Covid Vaccine Data by PHU and Age\n",
    "\n",
    "## Data Wrangling \n",
    "\n",
    "(1) & (2) Covid Alert App Downloads/Uploads"
   ]
  },
  {
   "cell_type": "code",
   "execution_count": 13,
   "metadata": {},
   "outputs": [],
   "source": [
    "downloads = pd.read_csv('covid_alert_downloads_canada.csv')\n",
    "uploads = pd.read_csv('covid_alert_positive_uploads_ontario.csv')"
   ]
  },
  {
   "cell_type": "code",
   "execution_count": 14,
   "metadata": {},
   "outputs": [
    {
     "data": {
      "text/html": [
       "<div>\n",
       "<style scoped>\n",
       "    .dataframe tbody tr th:only-of-type {\n",
       "        vertical-align: middle;\n",
       "    }\n",
       "\n",
       "    .dataframe tbody tr th {\n",
       "        vertical-align: top;\n",
       "    }\n",
       "\n",
       "    .dataframe thead th {\n",
       "        text-align: right;\n",
       "    }\n",
       "</style>\n",
       "<table border=\"1\" class=\"dataframe\">\n",
       "  <thead>\n",
       "    <tr style=\"text-align: right;\">\n",
       "      <th></th>\n",
       "      <th>date</th>\n",
       "      <th>cumulative_ios_downloads_canada</th>\n",
       "      <th>cumulative_android_downloads_canada</th>\n",
       "      <th>cumulative_total_downloads_canada</th>\n",
       "      <th>daily_ios_downloads_canada</th>\n",
       "      <th>daily_android_downloads_canada</th>\n",
       "      <th>daily_total_downloads_canada</th>\n",
       "    </tr>\n",
       "  </thead>\n",
       "  <tbody>\n",
       "    <tr>\n",
       "      <th>0</th>\n",
       "      <td>2020-07-30</td>\n",
       "      <td>189</td>\n",
       "      <td>1,909</td>\n",
       "      <td>2,098</td>\n",
       "      <td>189</td>\n",
       "      <td>1,909</td>\n",
       "      <td>2,098</td>\n",
       "    </tr>\n",
       "    <tr>\n",
       "      <th>1</th>\n",
       "      <td>2020-07-31</td>\n",
       "      <td>326,519</td>\n",
       "      <td>262,575</td>\n",
       "      <td>589,094</td>\n",
       "      <td>326,330</td>\n",
       "      <td>260,666</td>\n",
       "      <td>586,996</td>\n",
       "    </tr>\n",
       "    <tr>\n",
       "      <th>2</th>\n",
       "      <td>2020-08-01</td>\n",
       "      <td>630,961</td>\n",
       "      <td>386,470</td>\n",
       "      <td>1,017,431</td>\n",
       "      <td>304,442</td>\n",
       "      <td>123,895</td>\n",
       "      <td>428,337</td>\n",
       "    </tr>\n",
       "    <tr>\n",
       "      <th>3</th>\n",
       "      <td>2020-08-02</td>\n",
       "      <td>759,283</td>\n",
       "      <td>436,716</td>\n",
       "      <td>1,195,999</td>\n",
       "      <td>128,322</td>\n",
       "      <td>50,246</td>\n",
       "      <td>178,568</td>\n",
       "    </tr>\n",
       "    <tr>\n",
       "      <th>4</th>\n",
       "      <td>2020-08-03</td>\n",
       "      <td>835,095</td>\n",
       "      <td>483,562</td>\n",
       "      <td>1,318,657</td>\n",
       "      <td>75,812</td>\n",
       "      <td>46,846</td>\n",
       "      <td>122,658</td>\n",
       "    </tr>\n",
       "  </tbody>\n",
       "</table>\n",
       "</div>"
      ],
      "text/plain": [
       "         date cumulative_ios_downloads_canada  \\\n",
       "0  2020-07-30                             189   \n",
       "1  2020-07-31                         326,519   \n",
       "2  2020-08-01                         630,961   \n",
       "3  2020-08-02                         759,283   \n",
       "4  2020-08-03                         835,095   \n",
       "\n",
       "  cumulative_android_downloads_canada cumulative_total_downloads_canada  \\\n",
       "0                               1,909                             2,098   \n",
       "1                             262,575                           589,094   \n",
       "2                             386,470                         1,017,431   \n",
       "3                             436,716                         1,195,999   \n",
       "4                             483,562                         1,318,657   \n",
       "\n",
       "  daily_ios_downloads_canada daily_android_downloads_canada  \\\n",
       "0                        189                          1,909   \n",
       "1                    326,330                        260,666   \n",
       "2                    304,442                        123,895   \n",
       "3                    128,322                         50,246   \n",
       "4                     75,812                         46,846   \n",
       "\n",
       "  daily_total_downloads_canada  \n",
       "0                        2,098  \n",
       "1                      586,996  \n",
       "2                      428,337  \n",
       "3                      178,568  \n",
       "4                      122,658  "
      ]
     },
     "execution_count": 14,
     "metadata": {},
     "output_type": "execute_result"
    }
   ],
   "source": [
    "downloads.head()"
   ]
  },
  {
   "cell_type": "code",
   "execution_count": 15,
   "metadata": {},
   "outputs": [
    {
     "data": {
      "text/html": [
       "<div>\n",
       "<style scoped>\n",
       "    .dataframe tbody tr th:only-of-type {\n",
       "        vertical-align: middle;\n",
       "    }\n",
       "\n",
       "    .dataframe tbody tr th {\n",
       "        vertical-align: top;\n",
       "    }\n",
       "\n",
       "    .dataframe thead th {\n",
       "        text-align: right;\n",
       "    }\n",
       "</style>\n",
       "<table border=\"1\" class=\"dataframe\">\n",
       "  <thead>\n",
       "    <tr style=\"text-align: right;\">\n",
       "      <th></th>\n",
       "      <th>date</th>\n",
       "      <th>cumulative_positive_otks_uploaded_ontario</th>\n",
       "      <th>daily_positive_otks_uploaded_ontario</th>\n",
       "    </tr>\n",
       "  </thead>\n",
       "  <tbody>\n",
       "    <tr>\n",
       "      <th>0</th>\n",
       "      <td>2020-07-30</td>\n",
       "      <td>0</td>\n",
       "      <td>0</td>\n",
       "    </tr>\n",
       "    <tr>\n",
       "      <th>1</th>\n",
       "      <td>2020-07-31</td>\n",
       "      <td>9</td>\n",
       "      <td>9</td>\n",
       "    </tr>\n",
       "    <tr>\n",
       "      <th>2</th>\n",
       "      <td>2020-08-01</td>\n",
       "      <td>16</td>\n",
       "      <td>7</td>\n",
       "    </tr>\n",
       "    <tr>\n",
       "      <th>3</th>\n",
       "      <td>2020-08-02</td>\n",
       "      <td>16</td>\n",
       "      <td>0</td>\n",
       "    </tr>\n",
       "    <tr>\n",
       "      <th>4</th>\n",
       "      <td>2020-08-03</td>\n",
       "      <td>19</td>\n",
       "      <td>3</td>\n",
       "    </tr>\n",
       "  </tbody>\n",
       "</table>\n",
       "</div>"
      ],
      "text/plain": [
       "         date  cumulative_positive_otks_uploaded_ontario  \\\n",
       "0  2020-07-30                                          0   \n",
       "1  2020-07-31                                          9   \n",
       "2  2020-08-01                                         16   \n",
       "3  2020-08-02                                         16   \n",
       "4  2020-08-03                                         19   \n",
       "\n",
       "   daily_positive_otks_uploaded_ontario  \n",
       "0                                     0  \n",
       "1                                     9  \n",
       "2                                     7  \n",
       "3                                     0  \n",
       "4                                     3  "
      ]
     },
     "execution_count": 15,
     "metadata": {},
     "output_type": "execute_result"
    }
   ],
   "source": [
    "uploads.head()"
   ]
  },
  {
   "cell_type": "markdown",
   "metadata": {},
   "source": [
    "We can easily merge these two datasets using the date column to get all the information in one place."
   ]
  },
  {
   "cell_type": "code",
   "execution_count": 16,
   "metadata": {},
   "outputs": [
    {
     "name": "stdout",
     "output_type": "stream",
     "text": [
      "<class 'pandas.core.frame.DataFrame'>\n",
      "Int64Index: 435 entries, 0 to 434\n",
      "Data columns (total 9 columns):\n",
      " #   Column                                     Non-Null Count  Dtype \n",
      "---  ------                                     --------------  ----- \n",
      " 0   date                                       435 non-null    object\n",
      " 1   cumulative_ios_downloads_canada            435 non-null    object\n",
      " 2   cumulative_android_downloads_canada        435 non-null    object\n",
      " 3   cumulative_total_downloads_canada          435 non-null    object\n",
      " 4   daily_ios_downloads_canada                 435 non-null    object\n",
      " 5   daily_android_downloads_canada             435 non-null    object\n",
      " 6   daily_total_downloads_canada               435 non-null    object\n",
      " 7   cumulative_positive_otks_uploaded_ontario  435 non-null    int64 \n",
      " 8   daily_positive_otks_uploaded_ontario       435 non-null    int64 \n",
      "dtypes: int64(2), object(7)\n",
      "memory usage: 34.0+ KB\n"
     ]
    }
   ],
   "source": [
    "alert = pd.merge(left=downloads, right=uploads, left_on='date', right_on='date', how='inner')\n",
    "alert.info()"
   ]
  },
  {
   "cell_type": "markdown",
   "metadata": {},
   "source": [
    "Looking at the info() output we see that the columns from the download dataset have incorrect types associated with them. We will write a function that will deal with this kind of issue in case the other datasets have the same problem."
   ]
  },
  {
   "cell_type": "code",
   "execution_count": 17,
   "metadata": {},
   "outputs": [
    {
     "name": "stdout",
     "output_type": "stream",
     "text": [
      "<class 'pandas.core.frame.DataFrame'>\n",
      "Int64Index: 435 entries, 0 to 434\n",
      "Data columns (total 9 columns):\n",
      " #   Column                                     Non-Null Count  Dtype         \n",
      "---  ------                                     --------------  -----         \n",
      " 0   date                                       435 non-null    datetime64[ns]\n",
      " 1   cumulative_ios_downloads_canada            435 non-null    int64         \n",
      " 2   cumulative_android_downloads_canada        435 non-null    int64         \n",
      " 3   cumulative_total_downloads_canada          435 non-null    int64         \n",
      " 4   daily_ios_downloads_canada                 435 non-null    int64         \n",
      " 5   daily_android_downloads_canada             435 non-null    int64         \n",
      " 6   daily_total_downloads_canada               435 non-null    int64         \n",
      " 7   cumulative_positive_otks_uploaded_ontario  435 non-null    int64         \n",
      " 8   daily_positive_otks_uploaded_ontario       435 non-null    int64         \n",
      "dtypes: datetime64[ns](1), int64(8)\n",
      "memory usage: 34.0 KB\n"
     ]
    }
   ],
   "source": [
    "alert_col = list(alert.iloc[:, 1:7].columns)\n",
    "def numeric(df, columns):\n",
    "    for c in columns:\n",
    "        df[c] = df[c].apply(lambda x: x.replace(',', ''))\n",
    "        df[c] = df[c].astype('int64')\n",
    "\n",
    "numeric(df=alert, columns=alert_col)\n",
    "alert['date'] = pd.to_datetime(alert['date'])\n",
    "alert.info()"
   ]
  },
  {
   "cell_type": "code",
   "execution_count": null,
   "metadata": {},
   "outputs": [],
   "source": []
  }
 ],
 "metadata": {
  "interpreter": {
   "hash": "744780a313d19bfad9d54c8244412ee8183c68eb70a368c5c75336c9fa7ce41a"
  },
  "kernelspec": {
   "display_name": "Python 3.7.0 64-bit",
   "name": "python3"
  },
  "language_info": {
   "codemirror_mode": {
    "name": "ipython",
    "version": 3
   },
   "file_extension": ".py",
   "mimetype": "text/x-python",
   "name": "python",
   "nbconvert_exporter": "python",
   "pygments_lexer": "ipython3",
   "version": "3.7.0"
  },
  "orig_nbformat": 4
 },
 "nbformat": 4,
 "nbformat_minor": 2
}
